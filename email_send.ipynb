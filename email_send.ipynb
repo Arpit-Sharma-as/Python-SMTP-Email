{
 "cells": [
  {
   "cell_type": "code",
   "execution_count": 1,
   "id": "0a58f237",
   "metadata": {},
   "outputs": [
    {
     "name": "stdout",
     "output_type": "stream",
     "text": [
      "send mail\n"
     ]
    },
    {
     "data": {
      "text/plain": [
       "(221,\n",
       " b'2.0.0 closing connection 6-20020aa79106000000b0067777e960d9sm1487520pfh.155 - gsmtp')"
      ]
     },
     "execution_count": 1,
     "metadata": {},
     "output_type": "execute_result"
    }
   ],
   "source": [
    "import smtplib as s\n",
    "ob = s.SMTP('smtp.gmail.com' , 587) # created a variable ob .....\n",
    "ob.ehlo()\n",
    "ob.starttls()\n",
    "ob.login('your email' , 'xvjglsxsttsqrswy')\n",
    "subject = \"This is a testing e-mail\"\n",
    "body = \"This e-mail is send by python\"\n",
    "message = \"subject:{}\\n\\n{}\".format(subject,body)\n",
    "listadd = ['abc@gmail.com' ,'xyz@gmail.com' ]\n",
    "ob.sendmail('your email' , listadd , message)\n",
    "print(\"send mail\")\n",
    "ob.quit()"
   ]
  },
  {
   "cell_type": "code",
   "execution_count": null,
   "id": "52ca8e35",
   "metadata": {},
   "outputs": [],
   "source": []
  }
 ],
 "metadata": {
  "kernelspec": {
   "display_name": "Python 3 (ipykernel)",
   "language": "python",
   "name": "python3"
  },
  "language_info": {
   "codemirror_mode": {
    "name": "ipython",
    "version": 3
   },
   "file_extension": ".py",
   "mimetype": "text/x-python",
   "name": "python",
   "nbconvert_exporter": "python",
   "pygments_lexer": "ipython3",
   "version": "3.9.13"
  }
 },
 "nbformat": 4,
 "nbformat_minor": 5
}
